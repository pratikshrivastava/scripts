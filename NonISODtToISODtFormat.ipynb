{
 "cells": [
  {
   "cell_type": "code",
   "execution_count": 13,
   "metadata": {
    "collapsed": false
   },
   "outputs": [
    {
     "name": "stdout",
     "output_type": "stream",
     "text": [
      "Enter a date(mm/dd/yyyy or dd.mm.yyyy or month day, yyyy): April 5, 1231\n",
      "Entered Date format Month Date, YYYY: April 5, 1231\n",
      "Formatted ISO Date in YYYY-MM-DD: 1231-04-05\n"
     ]
    }
   ],
   "source": [
    "#####################################\n",
    "### Non-ISO Dt to ISO date format\n",
    "### Assignment 1, Q-5 \n",
    "### Date: 02/24/2017 \n",
    "#####################################\n",
    "\n",
    "\n",
    "'''\n",
    "Import the regex & datetime packages.\n",
    "'''\n",
    "\n",
    "import re\n",
    "from datetime import datetime\n",
    "date_input = input('Enter a date(mm/dd/yyyy or dd.mm.yyyy or month day, yyyy): ')\n",
    "\n",
    "#  Remove the newline characters.\n",
    "date_input=''.join((date_input.strip()).strip(\"\\n\"))\n",
    "input_date=date_input\n",
    "iso_fmt=\"YYYY-MM-DD: \"\n",
    "\n",
    "\n",
    "### Regex for the date in MM/DD/YYYY format. \n",
    "regex1=re.compile(r\"^(1[0-2]|0[1-9]|[1-9])(/)(0[1-9]|1\\d|2\\d|3[01]|[1-9])(/)(\\d{4})\",re.IGNORECASE)\n",
    "\n",
    "# Regex for the date in DD.MM.YYYY format \n",
    "regex2=re.compile(r\"^(0[1-9]|1\\d|2\\d|3[01]|[1-9])(\\.)(1[0-2]|0[1-9]|[1-9])(\\.)(\\d{4})\",re.IGNORECASE)\n",
    "\n",
    "# find Month date, YYYY format in the input string. \n",
    "regex3=re.compile(r\"^(JANUARY|FEBRUARY|MARCH|APRIL|MAY|JUNE|JULY|AUGUST|SEPTEMBER|NOVEMBER|DECEMBER)(\\s)(0[1-9]|1\\d|2\\d|3[01]|\\d)(,\\s)(\\d{4})$\",re.IGNORECASE)\n",
    "\n",
    "\n",
    "match1=regex1.findall(date_input)\n",
    "match2=regex2.findall(date_input)\n",
    "match3=regex3.findall(date_input)\n",
    "\n",
    "if match1:\n",
    "    non_iso_fmt=\"MM/DD/YYYY: \"\n",
    "    datetimeobject=datetime.strptime(date_input, '%m/%d/%Y')\n",
    "    date_output=datetimeobject.strftime('%Y-%m-%d')\n",
    "elif match2: \n",
    "    non_iso_fmt=\"DD.MM.YYYY: \"\n",
    "    datetimeobject=datetime.strptime(date_input, '%d.%m.%Y')\n",
    "    date_output=datetimeobject.strftime('%Y-%m-%d')\n",
    "elif match3:\n",
    "    non_iso_fmt=\"Month Date, YYYY: \"\n",
    "    datetimeobject=datetime.strptime(date_input, '%B %d, %Y')\n",
    "    date_output=datetimeobject.strftime('%Y-%m-%d')\n",
    "else:\n",
    "    print(\"date entered is either in incorrect format or incorrect. Kindly check the date: \", date_input)\n",
    "\n",
    "# convert the format of the string to YYYY-DD-MM format. \n",
    "#datetimeobject=datetime.strptime(date_input, '%m/%d/%Y')\n",
    "print(\"Entered Date format \" + non_iso_fmt + input_date)\n",
    "print(\"Formatted ISO Date in \"+ iso_fmt + date_output)\n",
    "        "
   ]
  }
 ],
 "metadata": {
  "kernelspec": {
   "display_name": "Python 3",
   "language": "python",
   "name": "python3"
  },
  "language_info": {
   "codemirror_mode": {
    "name": "ipython",
    "version": 3
   },
   "file_extension": ".py",
   "mimetype": "text/x-python",
   "name": "python",
   "nbconvert_exporter": "python",
   "pygments_lexer": "ipython3",
   "version": "3.6.0"
  }
 },
 "nbformat": 4,
 "nbformat_minor": 2
}
