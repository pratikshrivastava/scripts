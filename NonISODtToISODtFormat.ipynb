{
 "cells": [
  {
   "cell_type": "code",
   "execution_count": 50,
   "metadata": {
    "collapsed": false
   },
   "outputs": [
    {
     "name": "stdout",
     "output_type": "stream",
     "text": [
      "Enter a date(mm/dd/yyyy or mm.dd.yyyy or month day, yyyy): 12.1.1231\n",
      "12/1/1231\n",
      "1231-12-01\n"
     ]
    }
   ],
   "source": [
    "#####################################\n",
    "### Non-ISO Dt to ISO date format\n",
    "### Assignment 1, Q-5 \n",
    "### Date: 02/24/2017 \n",
    "#####################################\n",
    "\n",
    "\n",
    "'''\n",
    "Import the regex & datetime packages.\n",
    "'''\n",
    "import re\n",
    "from datetime import datetime\n",
    "date_input = input('Enter a date(mm/dd/yyyy or mm.dd.yyyy or month day, yyyy): ')\n",
    "\n",
    "'''\n",
    "Below function is used for converting the string format of type \n",
    "Month Date, YYYY ro MM/DD/YYYY \n",
    "'''\n",
    "def format_dt( str):\n",
    "    ##This prints a passed string into this function\"\n",
    "    str=str.strip(\"\\n\").strip()\n",
    "    # generate list to assign numeric values to the month. \n",
    "    months={'JANUARY':'01','FEBRUARY':'02','MARCH':'03','APRIL':'04', 'MAY':'05', 'JUNE':'06',\n",
    "        'JULY':'07', 'AUGUST':'08','SEPTEMBER':'09','OCTIBER':'10', 'NOVEMBER':'11', 'DECEMBER':'12'}\n",
    "    \n",
    "    # find first occurrence of the \" \" charcter which gives us the month\n",
    "    m=str[:str.find(\" \")]\n",
    "    m=months[(m.strip()).upper()]\n",
    "    \n",
    "    # find the date using the index of the \" \" characters in the string. \n",
    "    d=str[str.find(\" \")+1:str.find(\" \",str.find(\" \")+1)]      \n",
    "    d=d[:len(d)-1]\n",
    "    \n",
    "    # find the year using the index of the \" \" characters in the string. \n",
    "    y=str[str.find(d)+len(d)+2:]\n",
    "    str= m+\"/\"+ d +\"/\" + y\n",
    "    #print(str)\n",
    "    return str \n",
    "\n",
    "# Convert the string and remove the \" \" and new line characters from the input. \n",
    "date_input=''.join((date_input.strip()).strip(\"\\n\"))\n",
    "\n",
    "# check whether the input is in \"MM.DD.YYYY\" format or not \n",
    "if (date_input[1] == \".\" or date_input[2] == \".\"):\n",
    "    date_input=(re.sub(\"\\.\",\"/\",date_input))\n",
    "\n",
    "# now find pattern for MM/DD/YYY in the input string. \n",
    "regex1=re.compile(r\"^(1[0-2]|0[1-9]|[1-9])(/|\\.)(0[1-9]|1\\d|2\\d|3[01]|[1-9])(/|\\.)(\\d{4})\",re.IGNORECASE)\n",
    "\n",
    "# find Month date, YYYY format in the input string. \n",
    "regex2=re.compile(\"^(JANUARY|FEBRUARY|MARCH|APRIL|MAY|JUNE|JULY|AUGUST|SEPTEMBER|NOVEMBER|DECEMBER)(\\s)(0[1-9]|1\\d|2\\d|3[01]|\\d)(,\\s)(\\d{4})$\",re.IGNORECASE)\n",
    "\n",
    "\n",
    "match1=regex1.findall(date_input)\n",
    "match2=regex2.findall(date_input)\n",
    "\n",
    "# if matches is found with any of the below cases. \n",
    "if match1 :\n",
    "    date_input=''.join(match1[0])\n",
    "    print(date_input)\n",
    "elif match2:\n",
    "    date_input=''.join(match2[0])\n",
    "    date_input=format_dt(date_input)\n",
    "else: \n",
    "    print(\"date entered is either in incorrect format or incorrect. Kindly check the date: \", date_input)\n",
    "\n",
    "# convert the format of the string to YYYY-DD-MM format. \n",
    "\n",
    "datetimeobject=datetime.strptime(date_input, '%m/%d/%Y')\n",
    "print(datetimeobject.strftime('%Y-%m-%d'))\n",
    "        "
   ]
  }
 ],
 "metadata": {
  "kernelspec": {
   "display_name": "Python 3",
   "language": "python",
   "name": "python3"
  }
 },
 "nbformat": 4,
 "nbformat_minor": 2
}
