{
 "cells": [
  {
   "cell_type": "code",
   "execution_count": 51,
   "metadata": {
    "collapsed": false
   },
   "outputs": [
    {
     "name": "stdout",
     "output_type": "stream",
     "text": [
      "1984-12-10\n",
      "\n",
      "1932-09-12\n",
      "\n",
      "0000-10-01\n",
      "\n"
     ]
    }
   ],
   "source": [
    "import re\n",
    "\n",
    "## find the lines from the files. \n",
    "## first open the file and loop through the lines \n",
    "for line in (open('temp.txt','r')):\n",
    "    #print (line)\n",
    "    ## first select the first 4 digit of the date, ie year YYYY and follow it be by \"-\"\n",
    "    ## second select the month in 2 digit followed by \"-\" used a 0(1-9) & 1(0-2) \n",
    "    ## third  select the day in the format 0[1-9], 1[0-9],2[0-9] and 3[0-1]\n",
    "    match=re.findall(\\b(\\d){4}-(0[1-9]|1[0-2])-(0[1-9]|1\\d|2\\d|3[0-1]?[0-9])\\b\",line)\n",
    "    if match:\n",
    "        print(line)"
   ]
  }
 ],
 "metadata": {
  "kernelspec": {
   "display_name": "Python 3",
   "language": "python",
   "name": "python3"
  },
  "language_info": {
   "codemirror_mode": {
    "name": "ipython",
    "version": 3
   },
   "file_extension": ".py",
   "mimetype": "text/x-python",
   "name": "python",
   "nbconvert_exporter": "python",
   "pygments_lexer": "ipython3",
   "version": "3.6.0"
  }
 },
 "nbformat": 4,
 "nbformat_minor": 2
}
