{
 "cells": [
  {
   "cell_type": "code",
   "execution_count": 7,
   "metadata": {
    "collapsed": false
   },
   "outputs": [
    {
     "name": "stdout",
     "output_type": "stream",
     "text": [
      "121.122.123.123\n",
      "\n",
      "32.12.12.1\n",
      "\n",
      "1.2.3.0\n",
      "\n",
      "012.123.12.0\n",
      "\n",
      "1.12.213.12\n",
      "\n",
      "556.425.345\n",
      "\n",
      "90.240.123.1\n",
      "\n",
      "123123.213123.123123.123123\n",
      "\n",
      "240.230.255.255\n",
      "\n",
      "0.0.0.0\n",
      "\n"
     ]
    }
   ],
   "source": [
    "import re\n",
    "\n",
    "## find the lines from the files. \n",
    "## first open the file and loop through the lines \n",
    "for line in (open('temp.txt','r')):\n",
    "    #print (line)\n",
    "    match=re.findall(\"^\\d\",line)\n",
    "    if match:\n",
    "        print(line)"
   ]
  }
 ],
 "metadata": {
  "kernelspec": {
   "display_name": "Python 3",
   "language": "python",
   "name": "python3"
  },
  "language_info": {
   "codemirror_mode": {
    "name": "ipython",
    "version": 3
   },
   "file_extension": ".py",
   "mimetype": "text/x-python",
   "name": "python",
   "nbconvert_exporter": "python",
   "pygments_lexer": "ipython3",
   "version": "3.6.0"
  }
 },
 "nbformat": 4,
 "nbformat_minor": 2
}
