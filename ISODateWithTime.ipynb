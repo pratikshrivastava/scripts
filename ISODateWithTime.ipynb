{
 "cells": [
  {
   "cell_type": "code",
   "execution_count": 5,
   "metadata": {
    "collapsed": false
   },
   "outputs": [
    {
     "name": "stdout",
     "output_type": "stream",
     "text": [
      "0112-12-12T18:30\n",
      "\n"
     ]
    }
   ],
   "source": [
    "## import the regex library\n",
    "import re\n",
    "\n",
    "# ---------------------------------------------------\n",
    "# Date with Time \n",
    "# ---------------------------------------------------\n",
    "\n",
    "## find the lines from the files. \n",
    "## first open the file and loop through the lines \n",
    "for line in (open('temp.txt','r')):\n",
    "    #print (line)\n",
    "    ## first select the first 4 digit of the date, ie year YYYY and follow it be by \"-\"\n",
    "    ## second select the month in 2 digit followed by \"-\" used a 0(1-9) & 1(0-2) \n",
    "    ## third  select the day in the format 0[1-9], 1[0-9],2[0-9] and 3[0-1]\n",
    "    match=re.findall(\"(\\d){4}-(0[1-9]|1[0-2])-(0\\d|1\\d|2\\d|3[0-1]?\\d)T(0\\d|1\\d|2[0-4]?\\d):(0\\d|1\\d|2\\d|3\\d|4\\d|5\\d?\\d)\",line)\n",
    "    if match:\n",
    "        print(line)"
   ]
  }
 ],
 "metadata": {
  "kernelspec": {
   "display_name": "Python 3",
   "language": "python",
   "name": "python3"
  },
  "language_info": {
   "codemirror_mode": {
    "name": "ipython",
    "version": 3
   },
   "file_extension": ".py",
   "mimetype": "text/x-python",
   "name": "python",
   "nbconvert_exporter": "python",
   "pygments_lexer": "ipython3",
   "version": "3.6.0"
  }
 },
 "nbformat": 4,
 "nbformat_minor": 2
}
