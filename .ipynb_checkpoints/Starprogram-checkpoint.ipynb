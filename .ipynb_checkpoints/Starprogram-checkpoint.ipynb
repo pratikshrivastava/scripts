{
 "cells": [
  {
   "cell_type": "code",
   "execution_count": 213,
   "metadata": {
    "collapsed": false,
    "scrolled": false
   },
   "outputs": [
    {
     "name": "stdout",
     "output_type": "stream",
     "text": [
      "Hello World!! \n",
      "PRATIK SHRIVASTAVA\n",
      "Input a number10\n",
      "    @    \n",
      "   @@@   \n",
      "  @@@@@  \n",
      " @@@@@@@ \n",
      "@@@@@@@@@\n",
      " @@@@@@@ \n",
      "  @@@@@  \n",
      "   @@@   \n",
      "    @    \n"
     ]
    }
   ],
   "source": [
    "#!usr/bin python\n",
    "x=int(input(\"Input a number\"))\n",
    "\n",
    "if not(x%2 == 0):\n",
    "    x=x-1;\n",
    "\n",
    "y=x    \n",
    "avgn=x/2\n",
    "avgm=y/2\n",
    "\n",
    "for n in range(1,x ):\n",
    "    for m in range (1,y):\n",
    "        if (((m in range(int(avgm-(n-1)), int(avgm+n)) or (m == avgm) ) and (n <= avgm ))):\n",
    "            print('@', end='')\n",
    "            #print(m, end='')\n",
    "        elif (m in range(int(n-avgm+1), int(y-(n-avgm)))) and (n>avgm) :\n",
    "            print('@',end='')\n",
    "        else:\n",
    "            print(' ',end='')\n",
    "\n",
    "    print('')"
   ]
  },
  {
   "cell_type": "code",
   "execution_count": null,
   "metadata": {
    "collapsed": true
   },
   "outputs": [],
   "source": []
  },
  {
   "cell_type": "code",
   "execution_count": null,
   "metadata": {
    "collapsed": true
   },
   "outputs": [],
   "source": []
  }
 ],
 "metadata": {
  "kernelspec": {
   "display_name": "Python 3",
   "language": "python",
   "name": "python3"
  },
  "language_info": {
   "codemirror_mode": {
    "name": "ipython",
    "version": 3
   },
   "file_extension": ".py",
   "mimetype": "text/x-python",
   "name": "python",
   "nbconvert_exporter": "python",
   "pygments_lexer": "ipython3",
   "version": "3.6.0"
  }
 },
 "nbformat": 4,
 "nbformat_minor": 2
}
