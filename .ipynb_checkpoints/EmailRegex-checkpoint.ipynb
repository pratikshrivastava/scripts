{
 "cells": [
  {
   "cell_type": "code",
   "execution_count": 92,
   "metadata": {
    "collapsed": false
   },
   "outputs": [
    {
     "name": "stdout",
     "output_type": "stream",
     "text": [
      "['me@example.com']\n",
      "['more.with+symbol@foo.tv']\n",
      "['john..doe@example.com']\n",
      "['john&^doe@example.com']\n",
      "['Ab@c@@example.com']\n"
     ]
    }
   ],
   "source": [
    "import re\n",
    "\n",
    "## find the lines from the files. \n",
    "## first open the file and loop through the lines \n",
    "for line in (open('temp.txt','r')):\n",
    "    #print (line)\n",
    "\n",
    "    ## use the regex for matching 1-3 digits then followed by .\n",
    "    ## , repeat the same 2 more times.  \n",
    "    ## \\b[A-Z0-9._%+-]+@[A-Z0-9.-]+\\.[A-Z]{2,}\\b\n",
    "    matches=re.findall(\"^[a-z0-9A-Z]+[a-z0-9A-Z.].*@[a-zA-Z]+\\.[a-zA-Z]{2,}\",line)\n",
    "    \n",
    "    ## print the output if matched \n",
    "    if (matches):\n",
    "        print(matches)"
   ]
  },
  {
   "cell_type": "code",
   "execution_count": null,
   "metadata": {
    "collapsed": true
   },
   "outputs": [],
   "source": []
  }
 ],
 "metadata": {
  "kernelspec": {
   "display_name": "Python 3",
   "language": "python",
   "name": "python3"
  },
  "language_info": {
   "codemirror_mode": {
    "name": "ipython",
    "version": 3
   },
   "file_extension": ".py",
   "mimetype": "text/x-python",
   "name": "python",
   "nbconvert_exporter": "python",
   "pygments_lexer": "ipython3",
   "version": "3.6.0"
  }
 },
 "nbformat": 4,
 "nbformat_minor": 2
}
