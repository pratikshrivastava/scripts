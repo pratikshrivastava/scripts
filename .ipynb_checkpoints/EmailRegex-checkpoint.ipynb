{
 "cells": [
  {
   "cell_type": "code",
   "execution_count": 16,
   "metadata": {
    "collapsed": false
   },
   "outputs": [
    {
     "name": "stdout",
     "output_type": "stream",
     "text": [
      "['asd.Asd.ASD@pratik.com']\n",
      "['ma@ele.com']\n",
      "['QSAD@PRATIK.COM']\n",
      "['more.with+symbol@foo.tv']\n",
      "['asdf_asdf@ccom.com']\n",
      "['asd-asd@preail.com']\n"
     ]
    }
   ],
   "source": [
    "import re\n",
    "\n",
    "## find the lines from the files. \n",
    "## first open the file and loop through the lines \n",
    "for line in (open('email_vaild.txt', 'r', encoding='UTF8' )):\n",
    "    #print (line)\n",
    "\n",
    "    ## use the regex for matching 1-3 digits then followed by .\n",
    "    ## , repeat the same 2 more times.  \n",
    "    ## \\b[A-Z0-9._%+-]+@[A-Z0-9.-]+\\.[A-Z]{2,}\\b\n",
    "    matches=re.findall(\"^(?=[a-z\\d._%+-])(?:(?=[a-z\\d_%+-.]+@)[a-z\\d_%+-]+(?:\\.[a-z\\d_%+-]+)*@)(?:(?=[a-z\\d-]{1,}\\.)[a-z\\d]+(?:-[a-z\\d]+)*\\.)[a-z\\d]{2,}$\",line,re.IGNORECASE)\n",
    "    ## print the output if matched \n",
    "    if (matches):\n",
    "        print( matches)"
   ]
  }
 ],
 "metadata": {
  "kernelspec": {
   "display_name": "Python 3",
   "language": "python",
   "name": "python3"
  },
  "language_info": {
   "codemirror_mode": {
    "name": "ipython",
    "version": 3
   },
   "file_extension": ".py",
   "mimetype": "text/x-python",
   "name": "python",
   "nbconvert_exporter": "python",
   "pygments_lexer": "ipython3",
   "version": "3.6.0"
  }
 },
 "nbformat": 4,
 "nbformat_minor": 2
}
